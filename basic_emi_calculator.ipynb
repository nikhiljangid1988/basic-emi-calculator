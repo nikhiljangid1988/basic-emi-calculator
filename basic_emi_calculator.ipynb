{
  "nbformat": 4,
  "nbformat_minor": 0,
  "metadata": {
    "colab": {
      "provenance": []
    },
    "kernelspec": {
      "name": "python3",
      "display_name": "Python 3"
    },
    "language_info": {
      "name": "python"
    }
  },
  "cells": [
    {
      "cell_type": "code",
      "execution_count": 9,
      "metadata": {
        "colab": {
          "base_uri": "https://localhost:8080/"
        },
        "id": "yRoJ7FXVIPUH",
        "outputId": "725cef4d-7405-4863-a468-66311a39a859"
      },
      "outputs": [
        {
          "output_type": "stream",
          "name": "stdout",
          "text": [
            "Enter product price: 45000\n",
            "Enter annual interest rate (%): 5\n",
            "Enter tenure in years: 12\n",
            "Enter your monthly budget: 1\n",
            "\n",
            "Calculated Monthly EMI: ₹500.00\n",
            "❌ This EMI exceeds your monthly budget.\n"
          ]
        }
      ],
      "source": [
        "price = float(input(\"Enter product price: \"))\n",
        "interest_rate = float(input(\"Enter annual interest rate (%): \"))\n",
        "tenure = int(input(\"Enter tenure in years: \"))\n",
        "monthly_budget = float(input(\"Enter your monthly budget: \"))\n",
        "\n",
        "# EMI Calculation\n",
        "total_interest = (price * interest_rate * tenure) / 100\n",
        "total_amount = price + total_interest\n",
        "monthly_emi = total_amount / (tenure * 12)\n",
        "\n",
        "print(f\"\\nCalculated Monthly EMI: ₹{monthly_emi:.2f}\")\n",
        "\n",
        "if monthly_emi <= monthly_budget:\n",
        "    print(\"✅ You can afford this EMI.\")\n",
        "else:\n",
        "    print(\"❌ This EMI exceeds your monthly budget.\")\n"
      ]
    },
    {
      "cell_type": "code",
      "source": [],
      "metadata": {
        "colab": {
          "base_uri": "https://localhost:8080/"
        },
        "id": "LDW-NtpmIbe9",
        "outputId": "ee3ebb62-afd7-47fb-d5f9-28f4bb432c6d"
      },
      "execution_count": 10,
      "outputs": [
        {
          "output_type": "stream",
          "name": "stdout",
          "text": [
            "Hello Nikhil, your score is 87.5\n"
          ]
        }
      ]
    }
  ]
}